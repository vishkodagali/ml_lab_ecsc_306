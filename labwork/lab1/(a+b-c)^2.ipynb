{
 "cells": [
  {
   "cell_type": "code",
   "execution_count": 12,
   "metadata": {},
   "outputs": [
    {
     "name": "stdout",
     "output_type": "stream",
     "text": [
      "25\n"
     ]
    }
   ],
   "source": [
    "import tensorflow as tf\n",
    "tf.reset_default_graph()\n",
    "with tf.name_scope(\"A_B-C\"):\n",
    "    with tf.name_scope(\"A2\"):\n",
    "        a = tf.multiply(6, 6, name=\"MUL\")\n",
    "    with tf.name_scope(\"B2\"):\n",
    "        b = tf.multiply(2, 2, name=\"MUL\")\n",
    "    with tf.name_scope(\"C2\"):\n",
    "        c = tf.multiply(3, 3, name=\"MUL\")\n",
    "    with tf.name_scope(\"2AB\"):\n",
    "        d = tf.multiply(6, 2, name=\"MUL\")\n",
    "        e = tf.multiply(2, d, name=\"MUL\")\n",
    "    with tf.name_scope(\"2BC\"):\n",
    "        f = tf.multiply(2, 3, name=\"MUL\")\n",
    "        g = tf.multiply(2, f, name=\"MUL\")\n",
    "    with tf.name_scope(\"2AC\"):\n",
    "        h = tf.multiply(6, 3, name=\"MUL\")\n",
    "        i = tf.multiply(2, h, name=\"MUL\")\n",
    "    \n",
    "    \n",
    "    with tf.name_scope(\"A2_b2_c2_2ab\"):\n",
    "        j = tf.add(a, b, name=\"ADD\")\n",
    "        k = tf.add(c, j, name=\"ADD\")\n",
    "        l = tf.add(k, e, name=\"ADD\")\n",
    "    with tf.name_scope(\"-2bc\"):\n",
    "        m = tf.subtract(l, g, name=\"SUB\")\n",
    "    with tf.name_scope(\"-2ac\"):\n",
    "        n = tf.subtract(m, i, name=\"SUB\")\n",
    "    \n",
    "    \n",
    "with tf.Session() as sess:\n",
    "    writer = tf.summary.FileWriter(\"/tmp/tboard/output2\", sess.graph)\n",
    "    print(sess.run(n))\n",
    "    writer.close()"
   ]
  },
  {
   "cell_type": "code",
   "execution_count": null,
   "metadata": {
    "collapsed": true
   },
   "outputs": [],
   "source": []
  }
 ],
 "metadata": {
  "kernelspec": {
   "display_name": "Python 3",
   "language": "python",
   "name": "python3"
  },
  "language_info": {
   "codemirror_mode": {
    "name": "ipython",
    "version": 3
   },
   "file_extension": ".py",
   "mimetype": "text/x-python",
   "name": "python",
   "nbconvert_exporter": "python",
   "pygments_lexer": "ipython3",
   "version": "3.5.3"
  }
 },
 "nbformat": 4,
 "nbformat_minor": 2
}
