{
 "cells": [
  {
   "cell_type": "code",
   "execution_count": 1,
   "metadata": {},
   "outputs": [
    {
     "name": "stdout",
     "output_type": "stream",
     "text": [
      "81\n"
     ]
    }
   ],
   "source": [
    "import tensorflow as tf\n",
    "tf.reset_default_graph()\n",
    "with tf.name_scope(\"A-B_2\"):\n",
    "    with tf.name_scope(\"A_sq\"):\n",
    "        a = tf.multiply(12, 12, name=\"MUL\")\n",
    "    with tf.name_scope(\"B_sq\"):\n",
    "        b = tf.multiply(3, 3, name=\"MUL\")\n",
    "    with tf.name_scope(\"2AB\"):\n",
    "        c= tf.multiply(12, 3, name=\"MUL\")\n",
    "        d = tf.multiply(2, c, name=\"MUL\")   \n",
    "    with tf.name_scope(\"A_B_2AB\"):\n",
    "        g = tf.add(a, b, name=\"ADD\")\n",
    "        h = tf.subtract(g, d, name=\"SUB\")\n",
    "\n",
    "with tf.Session() as sess:\n",
    "    writer = tf.summary.FileWriter(\"/tmp/tboard/output5\", sess.graph)\n",
    "    print(sess.run(h))\n",
    "    writer.close()"
   ]
  },
  {
   "cell_type": "code",
   "execution_count": null,
   "metadata": {
    "collapsed": true
   },
   "outputs": [],
   "source": []
  }
 ],
 "metadata": {
  "kernelspec": {
   "display_name": "Python 3",
   "language": "python",
   "name": "python3"
  },
  "language_info": {
   "codemirror_mode": {
    "name": "ipython",
    "version": 3
   },
   "file_extension": ".py",
   "mimetype": "text/x-python",
   "name": "python",
   "nbconvert_exporter": "python",
   "pygments_lexer": "ipython3",
   "version": "3.5.3"
  }
 },
 "nbformat": 4,
 "nbformat_minor": 2
}
